{
  "nbformat": 4,
  "nbformat_minor": 0,
  "metadata": {
    "colab": {
      "provenance": []
    },
    "kernelspec": {
      "name": "python3",
      "display_name": "Python 3"
    },
    "language_info": {
      "name": "python"
    }
  },
  "cells": [
    {
      "cell_type": "code",
      "execution_count": 12,
      "metadata": {
        "id": "jSqv2wvH21no"
      },
      "outputs": [],
      "source": [
        "import numpy as np"
      ]
    },
    {
      "cell_type": "markdown",
      "source": [
        "***\n",
        "***\n",
        "***"
      ],
      "metadata": {
        "id": "26zjVcFVG4Nr"
      }
    },
    {
      "cell_type": "markdown",
      "source": [
        "1. Вкладник поклав 50000 умовних одиниць на три різні рахунки в три різні банки. За першим рахунком виплати становитимуть 5% річних, по другому – 7% річних та по третьому 6% річних. Відомо, що через рік вкладник отримав за відсотками суму в 2250 у.о. з першого та другого банку та суму в 1400 у.о. з першого та третього банку. Скільки умовних одиниць він поклав на кожен рахунок спочатку?"
      ],
      "metadata": {
        "id": "_S7cQPvP3fQg"
      }
    },
    {
      "cell_type": "markdown",
      "source": [
        "x + y + z = 50 000\n",
        "\n",
        "0.05x + 0.07y = 2 250\n",
        "\n",
        "0.05x + 0.06z = 1 400\n",
        "***\n",
        "x + y + z = 50 000\n",
        "\n",
        "5x + 7y = 225 000\n",
        "\n",
        "5x + 6z = 140 000"
      ],
      "metadata": {
        "id": "4lMg7kfM_7GJ"
      }
    },
    {
      "cell_type": "code",
      "source": [
        "a1 = np.array([[1, 1, 1], [5, 7, 0], [5, 0, 6]])\n",
        "b1 = np.array([50, 225, 140])\n",
        "x1 = np.linalg.solve(a1, b1)\n",
        "x1"
      ],
      "metadata": {
        "colab": {
          "base_uri": "https://localhost:8080/"
        },
        "id": "2sJQwOGoCVLE",
        "outputId": "5170b8bb-3cee-48af-f52b-f241fb34224b"
      },
      "execution_count": 13,
      "outputs": [
        {
          "output_type": "execute_result",
          "data": {
            "text/plain": [
              "array([10., 25., 15.])"
            ]
          },
          "metadata": {},
          "execution_count": 13
        }
      ]
    },
    {
      "cell_type": "markdown",
      "source": [
        "1й рахунок (x) = 10 000\n",
        "\n",
        "2й рахунок (y) = 25 000\n",
        "\n",
        "3й рахунок (z) = 15 000"
      ],
      "metadata": {
        "id": "hUeNA3gJEi_D"
      }
    },
    {
      "cell_type": "markdown",
      "source": [
        "***\n",
        "***\n",
        "***"
      ],
      "metadata": {
        "id": "aEZc7smoGtPs"
      }
    },
    {
      "cell_type": "markdown",
      "source": [
        "2. На складі зберігаються мобільні телефони iPhone 6, iPhone 11, iPhone 12 моделей. Всього 1328 екземплярів. Моделей iPhone 6 на 120 менше, ніж моделей iPhone 11, та на 100 більше, ніж моделей iPhone 12. Скільки моделей кожного виду на складі?"
      ],
      "metadata": {
        "id": "VO6H6ZKmGvmq"
      }
    },
    {
      "cell_type": "markdown",
      "source": [
        "x + y + z = 1328\n",
        "\n",
        "y - x = 120\n",
        "\n",
        "x - z = 100 "
      ],
      "metadata": {
        "id": "ymfUYNMfIZwH"
      }
    },
    {
      "cell_type": "code",
      "source": [
        "a2 = np.array([[1, 1, 1], [-1, 1, 0], [1, 0, -1]])\n",
        "b2 = np.array([1328, 120, 100])\n",
        "x2 = np.linalg.solve(a2, b2)\n",
        "x2"
      ],
      "metadata": {
        "colab": {
          "base_uri": "https://localhost:8080/"
        },
        "id": "e9Bl7lN1JkgQ",
        "outputId": "3cd04929-a5f9-4e6d-d0d3-09584e17ee75"
      },
      "execution_count": 14,
      "outputs": [
        {
          "output_type": "execute_result",
          "data": {
            "text/plain": [
              "array([436., 556., 336.])"
            ]
          },
          "metadata": {},
          "execution_count": 14
        }
      ]
    },
    {
      "cell_type": "markdown",
      "source": [
        "iPhone 6 (x) = 436\n",
        "\n",
        "iPhone 11 (y) = 556\n",
        "\n",
        "iPhone 12 (z) = 336"
      ],
      "metadata": {
        "id": "xH4wBsuzKqsK"
      }
    },
    {
      "cell_type": "markdown",
      "source": [
        "***\n",
        "***\n",
        "***"
      ],
      "metadata": {
        "id": "3uWQo7ktLL6z"
      }
    },
    {
      "cell_type": "markdown",
      "source": [
        "3. Складіть канонічне рівняння еліпсоїда, що проходить через три точки A, B, C\n",
        "\n",
        "A($\\sqrt{3}$; 0; $\\sqrt{3}$),\n",
        "B($\\sqrt{6}$; $\\frac{1}{2}$; 0),\n",
        "C(1; $\\frac{1}{\\sqrt{3}}$; 1)\n",
        "\n",
        "Канонічне рівняння еліпсоїда у прямокутній декартовій системі координат має вигляд:\n",
        "\n",
        "$\\frac{x^2}{a^2}$ + $\\frac{y^2}{b^2}$ + $\\frac{z^2}{c^2}$ = 1\n",
        "\n",
        "Завдання полягає у визначенні параметрів $a^{2}$, $b^{2}$ та $c^{2}$ ."
      ],
      "metadata": {
        "id": "BYWKjQeFLf8n"
      }
    },
    {
      "cell_type": "markdown",
      "source": [
        "$\\frac{3}{a^2}$ + $\\frac{3}{c^2}$ = 1\n",
        "\n",
        "$\\frac{6}{a^2}$ + $\\frac{1}{{4}*b^2}$ = 1\n",
        "\n",
        "$\\frac{1}{a^2}$ + $\\frac{1}{{3}*b^2}$ + $\\frac{1}{c^2}$= 1\n",
        "***\n"
      ],
      "metadata": {
        "id": "eDUg4vi5Vf5B"
      }
    },
    {
      "cell_type": "markdown",
      "source": [
        "$\\frac{3}{a^2}$ + $\\frac{3}{c^2}$ = 1\n",
        "\n",
        "$\\frac{24}{a^2}$ + $\\frac{1}{b^2}$ = 4\n",
        "\n",
        "$\\frac{3}{a^2}$ + $\\frac{1}{b^2}$ + $\\frac{3}{c^2}$ = 3\n",
        "***"
      ],
      "metadata": {
        "id": "17RMgMPbXWkZ"
      }
    },
    {
      "cell_type": "markdown",
      "source": [
        "$\\frac{1}{a^2}$ = x\n",
        "\n",
        "$\\frac{1}{b^2}$ = y\n",
        "\n",
        "$\\frac{1}{c^2}$ = z\n",
        "***"
      ],
      "metadata": {
        "id": "Vd05pbHVYUl1"
      }
    },
    {
      "cell_type": "markdown",
      "source": [
        "3x + 3z = 1\n",
        "\n",
        "24x + 1y = 4\n",
        "\n",
        "3x + y + 3z = 3"
      ],
      "metadata": {
        "id": "_piZ5W14X8-d"
      }
    },
    {
      "cell_type": "code",
      "source": [
        "a3 = np.array([[3, 0, 3], [24, 1, 0], [3, 1, 3]])\n",
        "b3 = np.array([1, 4, 3])\n",
        "x3 = np.linalg.solve(a3, b3)\n",
        "x3"
      ],
      "metadata": {
        "colab": {
          "base_uri": "https://localhost:8080/"
        },
        "id": "79C0zdprYzLu",
        "outputId": "427df4d9-7e55-4811-9800-4905750adb5e"
      },
      "execution_count": 15,
      "outputs": [
        {
          "output_type": "execute_result",
          "data": {
            "text/plain": [
              "array([0.08333333, 2.        , 0.25      ])"
            ]
          },
          "metadata": {},
          "execution_count": 15
        }
      ]
    },
    {
      "cell_type": "markdown",
      "source": [
        "$\\frac{1}{a^2}$ = $\\frac{1}{12}$, $\\qquad$ $a^{2}$ = 12\n",
        "\n",
        "$\\frac{1}{b^2}$ = 2, $\\qquad$ $b^{2}$ = $\\frac{1}{2}$\n",
        "\n",
        "$\\frac{1}{c^2}$ = $\\frac{1}{4}$, $\\qquad$ $c^{2}$ = 4"
      ],
      "metadata": {
        "id": "79mAPWLRda15"
      }
    },
    {
      "cell_type": "markdown",
      "source": [
        "***\n",
        "***\n",
        "***"
      ],
      "metadata": {
        "id": "3_dRJMqTj0yk"
      }
    },
    {
      "cell_type": "markdown",
      "source": [
        "4. Складіть рівняння параболи що проходить через задані три точки (1, 12), (3, 54), (-1, 2). \n",
        "\n",
        "Необхідно знайти коефіцієнти рівняння a, b, c\n",
        "\n",
        "y = a $\\cdot$  $x^2$ + b $\\cdot$ $x$ + c"
      ],
      "metadata": {
        "id": "VNAbvgPMkCvJ"
      }
    },
    {
      "cell_type": "markdown",
      "source": [
        "a + b + c = 12\n",
        "\n",
        "9a + 3b + c = 54\n",
        "\n",
        "a - b + c = 2"
      ],
      "metadata": {
        "id": "9yTS1ToXm1lr"
      }
    },
    {
      "cell_type": "code",
      "source": [
        "a4 = np.array([[1, 1, 1], [9, 3, 1], [1, -1, 1]])\n",
        "b4 = np.array([12, 54, 2])\n",
        "x4 = np.linalg.solve(a4, b4)\n",
        "x4"
      ],
      "metadata": {
        "colab": {
          "base_uri": "https://localhost:8080/"
        },
        "id": "DPIoyypuoOWF",
        "outputId": "c68e479d-9f8d-4c04-d42a-8306a518f411"
      },
      "execution_count": 30,
      "outputs": [
        {
          "output_type": "execute_result",
          "data": {
            "text/plain": [
              "array([4., 5., 3.])"
            ]
          },
          "metadata": {},
          "execution_count": 30
        }
      ]
    },
    {
      "cell_type": "markdown",
      "source": [
        "a = 4\n",
        "\n",
        "b = 5\n",
        "\n",
        "c = 3"
      ],
      "metadata": {
        "id": "LoVrXMFMqHCN"
      }
    },
    {
      "cell_type": "markdown",
      "source": [
        "***\n",
        "***\n",
        "***"
      ],
      "metadata": {
        "id": "UJtCy-8TlQmE"
      }
    },
    {
      "cell_type": "markdown",
      "source": [
        "Складіть функцію $\\color{Teal}{get\\_polynom}$, яка за набором точок виду \n",
        "($x_1$, $y_1$), ($x_2$, $y_2$), ..., ($x_{n+1}$, $y_{n+1}$) буде знаходити коефіцієнти багаточлена $c_i$. Таким чином функція приймає список кортежів з координатами та повертає набір коефіцієнтів $c_1$, $c_2$, ..., $c_n$"
      ],
      "metadata": {
        "id": "n6e0vuOWsAiG"
      }
    },
    {
      "cell_type": "code",
      "source": [
        "from typing import List\n",
        "\n",
        "def get_polynom(coords: List):\n",
        "\n",
        "    n = len(coords)\n",
        "    xs = [x[0] for x in coords]\n",
        "    b5 = [y[1] for y in coords]\n",
        "    a5 = []\n",
        "\n",
        "    for x in xs:\n",
        "        lst = []\n",
        "        \n",
        "        for m in range(1, n+1):\n",
        "            lst.append(x ** (n-m))\n",
        "        a5.append(lst)\n",
        "\n",
        "    return np.linalg.solve(a5, b5)\n",
        "\n",
        "get_polynom([(1, 12), (3, 54), (-1, 2)])"
      ],
      "metadata": {
        "colab": {
          "base_uri": "https://localhost:8080/"
        },
        "id": "Odjdfwpx0KQm",
        "outputId": "82a7cb9d-f2be-433d-f494-41f41b585aa2"
      },
      "execution_count": 31,
      "outputs": [
        {
          "output_type": "execute_result",
          "data": {
            "text/plain": [
              "array([4., 5., 3.])"
            ]
          },
          "metadata": {},
          "execution_count": 31
        }
      ]
    }
  ]
}