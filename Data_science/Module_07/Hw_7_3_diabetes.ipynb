{
  "nbformat": 4,
  "nbformat_minor": 0,
  "metadata": {
    "colab": {
      "provenance": []
    },
    "kernelspec": {
      "name": "python3",
      "display_name": "Python 3"
    },
    "language_info": {
      "name": "python"
    }
  },
  "cells": [
    {
      "cell_type": "markdown",
      "source": [
        "У цьому завданні необхідно створити свій власний лінійний класифікатор для датасету $\\color{red}{diabetes}$ в бібліотеці sklearn.\n",
        "\n",
        "1. Завантажте датасет.\n",
        "\n",
        "2. Вивчіть документацію функції train_test_split.\n",
        "\n",
        "3. Розділіть wine_dataset на навчальну та тестову вибірки.\n",
        "\n",
        "4. Навчіть модель на тренувальній вибірці та оцініть її якість на тестовій.\n",
        "\n",
        "5. Спробуйте повторити кроки 3 і 4 розбивши датасет на навчальну та тестову вибірки в якійсь власній пропорції. Як це вплинуло на якість моделі?"
      ],
      "metadata": {
        "id": "_p4ZqTWjXQmK"
      }
    },
    {
      "cell_type": "code",
      "source": [
        "from sklearn.datasets import load_diabetes\n",
        "from sklearn.linear_model import LinearRegression\n",
        "from sklearn.model_selection import train_test_split"
      ],
      "metadata": {
        "id": "rGbNViNwYSMj"
      },
      "execution_count": 168,
      "outputs": []
    },
    {
      "cell_type": "code",
      "source": [
        "X, y = load_diabetes(return_X_y=True)"
      ],
      "metadata": {
        "id": "_yOZCDGwYYa9"
      },
      "execution_count": 169,
      "outputs": []
    },
    {
      "cell_type": "markdown",
      "source": [
        "### $\\color{blue}{1 \\quad test \\quad size \\quad = \\quad 0.33}$"
      ],
      "metadata": {
        "id": "ffXIlm2MYjfa"
      }
    },
    {
      "cell_type": "code",
      "source": [
        "X_train1, X_test1, y_train1, y_test1 = train_test_split(\n",
        "    X, y, test_size=0.33, shuffle=True, random_state=42)"
      ],
      "metadata": {
        "id": "b94cwgfFYnOn"
      },
      "execution_count": 170,
      "outputs": []
    },
    {
      "cell_type": "code",
      "source": [
        "reg1 = LinearRegression().fit(X_train1, y_train1)"
      ],
      "metadata": {
        "id": "kI0E4niOYvOZ"
      },
      "execution_count": 171,
      "outputs": []
    },
    {
      "cell_type": "code",
      "source": [
        "reg1.score(X_test1, y_test1)"
      ],
      "metadata": {
        "colab": {
          "base_uri": "https://localhost:8080/"
        },
        "id": "BM9zZ6f6WWUK",
        "outputId": "d6b06924-5bc8-4ce0-dc89-198c0462c380"
      },
      "execution_count": 172,
      "outputs": [
        {
          "output_type": "execute_result",
          "data": {
            "text/plain": [
              "0.510394257282125"
            ]
          },
          "metadata": {},
          "execution_count": 172
        }
      ]
    },
    {
      "cell_type": "markdown",
      "source": [
        "### $\\color{blue}{2 \\quad test \\quad size \\quad = \\quad 0.25}$"
      ],
      "metadata": {
        "id": "Dtb4VnsxX3_X"
      }
    },
    {
      "cell_type": "code",
      "source": [
        "X_train2, X_test2, y_train2, y_test2 = train_test_split(\n",
        "    X, y, test_size=0.25, shuffle=True, random_state=42)"
      ],
      "metadata": {
        "id": "BJnBBLpbX_DR"
      },
      "execution_count": 173,
      "outputs": []
    },
    {
      "cell_type": "code",
      "source": [
        "reg2 = LinearRegression().fit(X_train2, y_train2)"
      ],
      "metadata": {
        "id": "c4iSZ_YnYGx5"
      },
      "execution_count": 174,
      "outputs": []
    },
    {
      "cell_type": "code",
      "source": [
        "reg2.score(X_test2, y_test2)"
      ],
      "metadata": {
        "colab": {
          "base_uri": "https://localhost:8080/"
        },
        "id": "M7MGV3dSYLJ1",
        "outputId": "f0cca36a-2783-4ec9-c670-b4bed15028d9"
      },
      "execution_count": 175,
      "outputs": [
        {
          "output_type": "execute_result",
          "data": {
            "text/plain": [
              "0.4849058889476756"
            ]
          },
          "metadata": {},
          "execution_count": 175
        }
      ]
    },
    {
      "cell_type": "markdown",
      "source": [
        "### $\\color{blue}{3 \\quad test \\quad size \\quad = \\quad 0.4}$"
      ],
      "metadata": {
        "id": "BF_7IATeYcDZ"
      }
    },
    {
      "cell_type": "code",
      "source": [
        "X_train3, X_test3, y_train3, y_test3 = train_test_split(\n",
        "    X, y, test_size=0.4, shuffle=True, random_state=42)"
      ],
      "metadata": {
        "id": "vkO9tWy9YgVI"
      },
      "execution_count": 176,
      "outputs": []
    },
    {
      "cell_type": "code",
      "source": [
        "reg3 = LinearRegression().fit(X_train3, y_train3)"
      ],
      "metadata": {
        "id": "h8K4WExCYm0V"
      },
      "execution_count": 177,
      "outputs": []
    },
    {
      "cell_type": "code",
      "source": [
        "reg3.score(X_test3, y_test3)"
      ],
      "metadata": {
        "colab": {
          "base_uri": "https://localhost:8080/"
        },
        "id": "aTDCE2PkYqiW",
        "outputId": "b3eacfcd-6941-4454-e907-465860f3b164"
      },
      "execution_count": 178,
      "outputs": [
        {
          "output_type": "execute_result",
          "data": {
            "text/plain": [
              "0.515743631390243"
            ]
          },
          "metadata": {},
          "execution_count": 178
        }
      ]
    },
    {
      "cell_type": "markdown",
      "source": [
        "при зміні тестової частини з 33% до 25% чи 40% коефіцієнт детермініції змініється незначно та у всіх випадках є недостатнім для прийняття моделі."
      ],
      "metadata": {
        "id": "vncgnVfYabq2"
      }
    }
  ]
}