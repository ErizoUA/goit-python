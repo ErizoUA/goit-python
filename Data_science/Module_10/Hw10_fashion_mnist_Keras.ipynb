{
  "nbformat": 4,
  "nbformat_minor": 0,
  "metadata": {
    "colab": {
      "provenance": [],
      "machine_shape": "hm",
      "gpuType": "V100"
    },
    "kernelspec": {
      "name": "python3",
      "display_name": "Python 3"
    },
    "language_info": {
      "name": "python"
    },
    "accelerator": "GPU",
    "gpuClass": "standard"
  },
  "cells": [
    {
      "cell_type": "markdown",
      "source": [
        "В якості домашнього завдання вам пропонується створити нейронну мережу за допомогою механізмів `Keras`, яка буде класифікувати товари із датасету `fasion_mnist`.\n",
        "\n",
        "Вам належить запропонувати свою власну архітектуру мережі. Точність найнаївнішої, але адекватної нейромережі становить приблизно 91%. Точність вашої моделі повинна бути не нижчою за цей показник. Щоб досягти таких значень вам знадобиться поекспериментувати з такими параметрами мережі як: кількість шарів, кількість нейронів, функції активації, кількість епох, розмір батчу і т.д. Рішення оформіть у вигляді окремого ноутбука."
      ],
      "metadata": {
        "id": "PC3wIlUSaqLF"
      }
    },
    {
      "cell_type": "code",
      "source": [
        "import tensorflow as tf\n",
        "from tensorflow import keras\n",
        "import numpy as np\n",
        "import matplotlib.pyplot as plt\n",
        "%matplotlib inline"
      ],
      "metadata": {
        "id": "t3TLvOB7bEAZ"
      },
      "execution_count": 24,
      "outputs": []
    },
    {
      "cell_type": "code",
      "source": [
        "(x_train, y_train), (x_test, y_test) = keras.datasets.fashion_mnist.load_data()"
      ],
      "metadata": {
        "id": "HCWREa1Lb8fk"
      },
      "execution_count": 25,
      "outputs": []
    },
    {
      "cell_type": "code",
      "source": [
        "x_train = x_train / 255.0\n",
        "x_test = x_test / 255.0"
      ],
      "metadata": {
        "id": "6nAkckF3cLzF"
      },
      "execution_count": 26,
      "outputs": []
    },
    {
      "cell_type": "code",
      "source": [
        "from tensorflow.keras import Sequential\n",
        "from tensorflow.keras import regularizers\n",
        "from tensorflow.keras.layers import Dense, Flatten, Dropout, Reshape"
      ],
      "metadata": {
        "id": "YPW_dMkkcTNz"
      },
      "execution_count": 27,
      "outputs": []
    },
    {
      "cell_type": "code",
      "source": [
        "model = Sequential()\n",
        "\n",
        "model.add(Flatten())\n",
        "model.add(Dense(units=1024, activation='relu'))\n",
        "model.add(Dropout(0.1))\n",
        "model.add(Dense(units=512, activation='relu'))\n",
        "model.add(Dropout(0.1))\n",
        "model.add(Dense(units=256, activation='relu'))\n",
        "model.add(Dropout(0.1))\n",
        "model.add(Dense(units=128, activation='relu'))\n",
        "model.add(Dense(units=64, activation='relu'))\n",
        "model.add(Dense(units=32, activation='relu'))\n",
        "\n",
        "\n",
        "model.add(Dense(units=10, activation='softmax'))"
      ],
      "metadata": {
        "id": "4pzgWhc1De7y"
      },
      "execution_count": 34,
      "outputs": []
    },
    {
      "cell_type": "code",
      "source": [
        "model.compile(optimizer=tf.optimizers.Adam(), \n",
        "              loss='sparse_categorical_crossentropy', metrics=['accuracy'])"
      ],
      "metadata": {
        "id": "glZOombpdVuR"
      },
      "execution_count": 35,
      "outputs": []
    },
    {
      "cell_type": "code",
      "source": [
        "%%time\n",
        "history = model.fit(x_train, y_train, batch_size=32, epochs=14, validation_split=0.2)"
      ],
      "metadata": {
        "colab": {
          "base_uri": "https://localhost:8080/"
        },
        "id": "gMfDVZw0dam0",
        "outputId": "94e3d3be-91c0-4376-f8ab-22119c016a53"
      },
      "execution_count": 36,
      "outputs": [
        {
          "output_type": "stream",
          "name": "stdout",
          "text": [
            "Epoch 1/14\n",
            "1500/1500 [==============================] - 8s 4ms/step - loss: 0.5668 - accuracy: 0.7947 - val_loss: 0.4565 - val_accuracy: 0.8409\n",
            "Epoch 2/14\n",
            "1500/1500 [==============================] - 6s 4ms/step - loss: 0.4210 - accuracy: 0.8475 - val_loss: 0.3923 - val_accuracy: 0.8549\n",
            "Epoch 3/14\n",
            "1500/1500 [==============================] - 6s 4ms/step - loss: 0.3776 - accuracy: 0.8617 - val_loss: 0.4033 - val_accuracy: 0.8553\n",
            "Epoch 4/14\n",
            "1500/1500 [==============================] - 6s 4ms/step - loss: 0.3573 - accuracy: 0.8681 - val_loss: 0.3477 - val_accuracy: 0.8798\n",
            "Epoch 5/14\n",
            "1500/1500 [==============================] - 6s 4ms/step - loss: 0.3351 - accuracy: 0.8782 - val_loss: 0.3367 - val_accuracy: 0.8810\n",
            "Epoch 6/14\n",
            "1500/1500 [==============================] - 6s 4ms/step - loss: 0.3240 - accuracy: 0.8827 - val_loss: 0.3351 - val_accuracy: 0.8819\n",
            "Epoch 7/14\n",
            "1500/1500 [==============================] - 6s 4ms/step - loss: 0.3059 - accuracy: 0.8897 - val_loss: 0.3836 - val_accuracy: 0.8689\n",
            "Epoch 8/14\n",
            "1500/1500 [==============================] - 6s 4ms/step - loss: 0.2997 - accuracy: 0.8922 - val_loss: 0.3565 - val_accuracy: 0.8772\n",
            "Epoch 9/14\n",
            "1500/1500 [==============================] - 6s 4ms/step - loss: 0.2916 - accuracy: 0.8939 - val_loss: 0.3336 - val_accuracy: 0.8849\n",
            "Epoch 10/14\n",
            "1500/1500 [==============================] - 6s 4ms/step - loss: 0.2824 - accuracy: 0.8969 - val_loss: 0.3396 - val_accuracy: 0.8806\n",
            "Epoch 11/14\n",
            "1500/1500 [==============================] - 6s 4ms/step - loss: 0.2706 - accuracy: 0.9016 - val_loss: 0.3317 - val_accuracy: 0.8851\n",
            "Epoch 12/14\n",
            "1500/1500 [==============================] - 6s 4ms/step - loss: 0.2694 - accuracy: 0.9022 - val_loss: 0.3112 - val_accuracy: 0.8901\n",
            "Epoch 13/14\n",
            "1500/1500 [==============================] - 6s 4ms/step - loss: 0.2587 - accuracy: 0.9056 - val_loss: 0.3186 - val_accuracy: 0.8882\n",
            "Epoch 14/14\n",
            "1500/1500 [==============================] - 6s 4ms/step - loss: 0.2520 - accuracy: 0.9078 - val_loss: 0.3226 - val_accuracy: 0.8907\n",
            "CPU times: user 1min 37s, sys: 7.02 s, total: 1min 44s\n",
            "Wall time: 1min 23s\n"
          ]
        }
      ]
    },
    {
      "cell_type": "code",
      "source": [
        "accuracy_test = model.evaluate(x_test, y_test)"
      ],
      "metadata": {
        "colab": {
          "base_uri": "https://localhost:8080/"
        },
        "id": "0B_HBodB96oq",
        "outputId": "142b1da6-4b8f-4d1c-e333-a44027f6e4a2"
      },
      "execution_count": 37,
      "outputs": [
        {
          "output_type": "stream",
          "name": "stdout",
          "text": [
            "313/313 [==============================] - 1s 2ms/step - loss: 0.3519 - accuracy: 0.8830\n"
          ]
        }
      ]
    },
    {
      "cell_type": "markdown",
      "source": [
        "точність моделі на **тренувальних** даних = 90.78 %\n",
        "\n",
        "точність моделі на **валідаційних** даних = 89,07 %\n",
        "\n",
        "точність моделі на **тестових даних** = 88.30 %"
      ],
      "metadata": {
        "id": "KImpxmY1CRgd"
      }
    },
    {
      "cell_type": "code",
      "source": [
        "random_indices = np.random.choice(len(x_test), 5, replace=False)\n",
        "\n",
        "images = x_test[random_indices]\n",
        "labels = y_test[random_indices]\n",
        "\n",
        "predictions = model(images)\n",
        "predicted_labels = tf.argmax(predictions, axis=1).numpy()\n",
        "\n",
        "fig, axes = plt.subplots(1, 5, figsize=(15, 3))\n",
        "for i, ax in enumerate(axes):\n",
        "    ax.imshow(images[i].reshape(28, 28), cmap='gray')\n",
        "    ax.set_title(f'Predicted: {predicted_labels[i]}, True: {labels[i]}')\n",
        "    ax.axis('off')"
      ],
      "metadata": {
        "colab": {
          "base_uri": "https://localhost:8080/",
          "height": 259
        },
        "id": "NIKHMzGiC0b4",
        "outputId": "e5eb197c-5e19-4fd2-a12d-3026ce06a68d"
      },
      "execution_count": 38,
      "outputs": [
        {
          "output_type": "display_data",
          "data": {
            "text/plain": [
              "<Figure size 1500x300 with 5 Axes>"
            ],
            "image/png": "[encoded data removed]"
          },
          "metadata": {}
        }
      ]
    }
  ]
}