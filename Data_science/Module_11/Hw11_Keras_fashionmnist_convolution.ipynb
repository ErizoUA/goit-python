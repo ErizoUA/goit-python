{
  "nbformat": 4,
  "nbformat_minor": 0,
  "metadata": {
    "colab": {
      "provenance": [],
      "machine_shape": "hm",
      "gpuType": "A100"
    },
    "kernelspec": {
      "name": "python3",
      "display_name": "Python 3"
    },
    "language_info": {
      "name": "python"
    },
    "accelerator": "GPU",
    "gpuClass": "standard"
  },
  "cells": [
    {
      "cell_type": "markdown",
      "source": [
        "В якості домашнього завдання вам пропонується створити нейронну мережу за допомогою механізмів `Keras`, яка буде класифікувати товари із датасету `fasion_mnist`.\n",
        "\n",
        "На відміну від попереднього завдання вам пропонується створити згорткову нейромережу. Підберіть архітектуру мережі та навчіть її на даних із датасету `fasion_mnist`. Спробуйте досягти максимально можливої точності класифікації за рахунок маніпуляції параметрами мережі. Порівняйте точність отриманої згорткової мережі з точністю багатошарової мережі з попереднього завдання. Зробіть висновки."
      ],
      "metadata": {
        "id": "Q_Pjjjk2LRhm"
      }
    },
    {
      "cell_type": "code",
      "source": [
        "import tensorflow as tf\n",
        "from tensorflow import keras\n",
        "import numpy as np\n",
        "import matplotlib.pyplot as plt\n",
        "%matplotlib inline"
      ],
      "metadata": {
        "id": "uN3oxZVLMuj5"
      },
      "execution_count": 1,
      "outputs": []
    },
    {
      "cell_type": "code",
      "source": [
        "(x_train, y_train), (x_test, y_test) = keras.datasets.fashion_mnist.load_data()"
      ],
      "metadata": {
        "id": "6q3K50DmPM-A"
      },
      "execution_count": 2,
      "outputs": []
    },
    {
      "cell_type": "code",
      "source": [
        "x_train = x_train / 255.0\n",
        "x_test = x_test / 255.0"
      ],
      "metadata": {
        "id": "v0PXmQMGPQva"
      },
      "execution_count": 3,
      "outputs": []
    },
    {
      "cell_type": "code",
      "source": [
        "from tensorflow.keras import Sequential\n",
        "from tensorflow.keras import regularizers\n",
        "from tensorflow.keras.layers import Conv2D, MaxPooling2D, Dense, Flatten, Dropout"
      ],
      "metadata": {
        "id": "2Vl7GkMsPTdt"
      },
      "execution_count": 4,
      "outputs": []
    },
    {
      "cell_type": "code",
      "source": [
        "model = Sequential()\n",
        "\n",
        "model.add(Conv2D(32, (3, 3), activation=\"relu\", input_shape=(28, 28, 1)))\n",
        "model.add(MaxPooling2D((2, 2)))\n",
        "model.add(Dropout(0.2))\n",
        "model.add(Conv2D(64, (3, 3), activation=\"relu\"))\n",
        "model.add(Dropout(0.2))\n",
        "model.add(Conv2D(128, (3, 3), activation=\"relu\"))\n",
        "model.add(Dropout(0.1))\n",
        "model.add(Flatten())\n",
        "model.add(Dense(units=128, activation='relu'))\n",
        "model.add(Dense(units=64, activation='relu'))\n",
        "model.add(Dense(units=32, activation='relu'))\n",
        "\n",
        "\n",
        "model.add(Dense(units=10, activation='softmax'))"
      ],
      "metadata": {
        "id": "AlwuXYGpPnnI"
      },
      "execution_count": 5,
      "outputs": []
    },
    {
      "cell_type": "code",
      "source": [
        "model.summary()"
      ],
      "metadata": {
        "colab": {
          "base_uri": "https://localhost:8080/"
        },
        "id": "BxzVSDHWRkTW",
        "outputId": "3c17a43d-b6b0-4519-80cc-ad310f830736"
      },
      "execution_count": 6,
      "outputs": [
        {
          "output_type": "stream",
          "name": "stdout",
          "text": [
            "Model: \"sequential\"\n",
            "_________________________________________________________________\n",
            " Layer (type)                Output Shape              Param #   \n",
            "=================================================================\n",
            " conv2d (Conv2D)             (None, 26, 26, 32)        320       \n",
            "                                                                 \n",
            " max_pooling2d (MaxPooling2D  (None, 13, 13, 32)       0         \n",
            " )                                                               \n",
            "                                                                 \n",
            " dropout (Dropout)           (None, 13, 13, 32)        0         \n",
            "                                                                 \n",
            " conv2d_1 (Conv2D)           (None, 11, 11, 64)        18496     \n",
            "                                                                 \n",
            " dropout_1 (Dropout)         (None, 11, 11, 64)        0         \n",
            "                                                                 \n",
            " conv2d_2 (Conv2D)           (None, 9, 9, 128)         73856     \n",
            "                                                                 \n",
            " dropout_2 (Dropout)         (None, 9, 9, 128)         0         \n",
            "                                                                 \n",
            " flatten (Flatten)           (None, 10368)             0         \n",
            "                                                                 \n",
            " dense (Dense)               (None, 128)               1327232   \n",
            "                                                                 \n",
            " dense_1 (Dense)             (None, 64)                8256      \n",
            "                                                                 \n",
            " dense_2 (Dense)             (None, 32)                2080      \n",
            "                                                                 \n",
            " dense_3 (Dense)             (None, 10)                330       \n",
            "                                                                 \n",
            "=================================================================\n",
            "Total params: 1,430,570\n",
            "Trainable params: 1,430,570\n",
            "Non-trainable params: 0\n",
            "_________________________________________________________________\n"
          ]
        }
      ]
    },
    {
      "cell_type": "code",
      "source": [
        "model.compile(optimizer=tf.optimizers.Adam(), \n",
        "              loss='sparse_categorical_crossentropy', metrics=['accuracy'])"
      ],
      "metadata": {
        "id": "oKLqQRrKR8U9"
      },
      "execution_count": 7,
      "outputs": []
    },
    {
      "cell_type": "code",
      "source": [
        "%%time\n",
        "history = model.fit(x_train, y_train, batch_size=32, epochs=12, validation_split=0.2)"
      ],
      "metadata": {
        "colab": {
          "base_uri": "https://localhost:8080/"
        },
        "id": "vEiMPl22SBYH",
        "outputId": "30e86f13-5015-4267-8627-07dbd834974d"
      },
      "execution_count": 8,
      "outputs": [
        {
          "output_type": "stream",
          "name": "stdout",
          "text": [
            "Epoch 1/12\n",
            "1500/1500 [==============================] - 12s 4ms/step - loss: 0.4889 - accuracy: 0.8190 - val_loss: 0.3768 - val_accuracy: 0.8542\n",
            "Epoch 2/12\n",
            "1500/1500 [==============================] - 6s 4ms/step - loss: 0.3110 - accuracy: 0.8859 - val_loss: 0.2638 - val_accuracy: 0.9031\n",
            "Epoch 3/12\n",
            "1500/1500 [==============================] - 6s 4ms/step - loss: 0.2594 - accuracy: 0.9035 - val_loss: 0.2646 - val_accuracy: 0.9004\n",
            "Epoch 4/12\n",
            "1500/1500 [==============================] - 6s 4ms/step - loss: 0.2329 - accuracy: 0.9132 - val_loss: 0.2503 - val_accuracy: 0.9097\n",
            "Epoch 5/12\n",
            "1500/1500 [==============================] - 6s 4ms/step - loss: 0.2115 - accuracy: 0.9209 - val_loss: 0.2604 - val_accuracy: 0.9061\n",
            "Epoch 6/12\n",
            "1500/1500 [==============================] - 6s 4ms/step - loss: 0.1896 - accuracy: 0.9295 - val_loss: 0.2347 - val_accuracy: 0.9169\n",
            "Epoch 7/12\n",
            "1500/1500 [==============================] - 6s 4ms/step - loss: 0.1722 - accuracy: 0.9346 - val_loss: 0.2432 - val_accuracy: 0.9150\n",
            "Epoch 8/12\n",
            "1500/1500 [==============================] - 6s 4ms/step - loss: 0.1571 - accuracy: 0.9408 - val_loss: 0.2681 - val_accuracy: 0.9128\n",
            "Epoch 9/12\n",
            "1500/1500 [==============================] - 6s 4ms/step - loss: 0.1477 - accuracy: 0.9439 - val_loss: 0.2516 - val_accuracy: 0.9147\n",
            "Epoch 10/12\n",
            "1500/1500 [==============================] - 6s 4ms/step - loss: 0.1321 - accuracy: 0.9509 - val_loss: 0.2869 - val_accuracy: 0.9157\n",
            "Epoch 11/12\n",
            "1500/1500 [==============================] - 6s 4ms/step - loss: 0.1223 - accuracy: 0.9543 - val_loss: 0.2733 - val_accuracy: 0.9160\n",
            "Epoch 12/12\n",
            "1500/1500 [==============================] - 6s 4ms/step - loss: 0.1152 - accuracy: 0.9573 - val_loss: 0.2731 - val_accuracy: 0.9159\n",
            "CPU times: user 1min 34s, sys: 7.71 s, total: 1min 42s\n",
            "Wall time: 1min 22s\n"
          ]
        }
      ]
    },
    {
      "cell_type": "code",
      "source": [
        "accuracy_test = model.evaluate(x_test, y_test)"
      ],
      "metadata": {
        "colab": {
          "base_uri": "https://localhost:8080/"
        },
        "id": "8FeIj_M1UW0v",
        "outputId": "e5ff1f41-013c-41ae-9287-74f94f17fd65"
      },
      "execution_count": 9,
      "outputs": [
        {
          "output_type": "stream",
          "name": "stdout",
          "text": [
            "313/313 [==============================] - 1s 2ms/step - loss: 0.2884 - accuracy: 0.9150\n"
          ]
        }
      ]
    },
    {
      "cell_type": "markdown",
      "source": [
        "точність моделі на **тренувальних** даних = 95.73 %\n",
        "\n",
        "точність моделі на **валідаційних** даних = 91.59 %\n",
        "\n",
        "точність моделі на **тестових даних** = 91.5 %"
      ],
      "metadata": {
        "id": "LnzROFbHUgqP"
      }
    },
    {
      "cell_type": "markdown",
      "source": [
        "у порівнянні з простою нейронною мережею, згорткова має більшу точність та швидше вчиться"
      ],
      "metadata": {
        "id": "yyBrxb1pUvQi"
      }
    },
    {
      "cell_type": "code",
      "source": [
        "random_indices = np.random.choice(len(x_test), 5, replace=False)\n",
        "\n",
        "images = x_test[random_indices]\n",
        "labels = y_test[random_indices]\n",
        "\n",
        "predictions = model(images)\n",
        "predicted_labels = tf.argmax(predictions, axis=1).numpy()\n",
        "\n",
        "fig, axes = plt.subplots(1, 5, figsize=(15, 3))\n",
        "for i, ax in enumerate(axes):\n",
        "    ax.imshow(images[i].reshape(28, 28), cmap='gray')\n",
        "    ax.set_title(f'Predicted: {predicted_labels[i]}, True: {labels[i]}')\n",
        "    ax.axis('off')"
      ],
      "metadata": {
        "colab": {
          "base_uri": "https://localhost:8080/",
          "height": 259
        },
        "id": "45Cdwec8VAB9",
        "outputId": "5cb4ed86-5205-4569-b3de-e1ebcc999500"
      },
      "execution_count": 10,
      "outputs": [
        {
          "output_type": "display_data",
          "data": {
            "text/plain": [
              "<Figure size 1500x300 with 5 Axes>"
            ],
            "image/png": "[encoded data removed]"
          },
          "metadata": {}
        }
      ]
    }
  ]
}